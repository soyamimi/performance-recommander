{
 "cells": [
  {
   "cell_type": "code",
   "id": "initial_id",
   "metadata": {
    "collapsed": true,
    "ExecuteTime": {
     "end_time": "2025-10-02T21:25:17.970435Z",
     "start_time": "2025-10-02T21:25:17.905633Z"
    }
   },
   "source": [
    "import pandas as pd\n",
    "from conf.config import settings\n",
    "import os\n",
    "from pathlib import Path"
   ],
   "outputs": [],
   "execution_count": 1
  },
  {
   "metadata": {
    "ExecuteTime": {
     "end_time": "2025-10-02T21:25:29.711673Z",
     "start_time": "2025-10-02T21:25:29.562617Z"
    }
   },
   "cell_type": "code",
   "source": [
    "# Import data\n",
    "BASE_DIR = os.path.abspath(os.path.join(os.getcwd(), \"..\"))\n",
    "path = os.path.join(BASE_DIR, Path(settings.RAW_DATA_FOLDER), Path(settings.PERFORMANCE_DETAILS_DATA_FILE))"
   ],
   "id": "4cc486e66ac7945f",
   "outputs": [],
   "execution_count": 2
  },
  {
   "metadata": {
    "ExecuteTime": {
     "end_time": "2025-10-02T21:25:30.938703Z",
     "start_time": "2025-10-02T21:25:30.693061Z"
    }
   },
   "cell_type": "code",
   "source": "df = pd.read_csv(path, encoding=\"utf-8-sig\")",
   "id": "3f30cb5c46e0622c",
   "outputs": [],
   "execution_count": 3
  },
  {
   "metadata": {
    "ExecuteTime": {
     "end_time": "2025-10-02T21:25:33.787758Z",
     "start_time": "2025-10-02T21:25:33.758754Z"
    }
   },
   "cell_type": "code",
   "source": "df.head()",
   "id": "9baa84198d8da03f",
   "outputs": [
    {
     "data": {
      "text/plain": [
       "     mt20id                         prfnm   prfpdfrom     prfpdto  \\\n",
       "0  PF270446          헨젤과 그레텔의 과자 콘서트 [청주]  2025.01.17  2025.08.31   \n",
       "1  PF258371               오징어키즈게임 [인천 남동]  2025.01.13  2025.02.16   \n",
       "2  PF258045  정열의 라틴 그루브! 이규재 라틴재즈올스타 [대전]  2025.01.25  2025.01.25   \n",
       "3  PF257952                    동춘서커스 [안산]  2025.01.01  2025.06.30   \n",
       "4  PF257891        경기북부민중행동 신년음악회 우위영 콘서트  2025.01.23  2025.01.23   \n",
       "\n",
       "                   fcltynm                              prfcast prfcrew  \\\n",
       "0            오즈아트홀 (오즈아트홀)  오혜미, 정효진, 김창선, 박현주, 한철수, 오동환, 박소연 등     오혜영   \n",
       "1          루시드아트홀 (루시드아트홀)                                  NaN     NaN   \n",
       "2            옐로우택시 (옐로우택시)              이규재, 조재범, 구교진, 염신혜, 강하얀     NaN   \n",
       "3  동춘서커스 빅탑극장 (동춘서커스 빅탑극장)                                  NaN     NaN   \n",
       "4          고양어울림누리 (별모래극장)                                  NaN     NaN   \n",
       "\n",
       "  prfruntime    prfage entrpsnm  ... daehakro festival musicallicense  \\\n",
       "0        50분    전체 관람가      NaN  ...        N        N              N   \n",
       "1        1시간   만 4세 이상      NaN  ...        N        N              N   \n",
       "2        2시간  만 18세 이상      NaN  ...        N        N              N   \n",
       "3    1시간 30분    전체 관람가      NaN  ...        N        N              N   \n",
       "4    1시간 40분   24개월 이상      NaN  ...        N        N              N   \n",
       "\n",
       "  musicalcreate                  updatedate prfstate    mt10id  \\\n",
       "0             N  2025-07-28 15:00:00.122445     공연완료  FC003652   \n",
       "1             N         2025-02-05 15:00:00     공연완료  FC003416   \n",
       "2             N         2025-01-31 18:00:00     공연완료  FC004001   \n",
       "3             N         2025-04-01 11:38:58     공연완료  FC002006   \n",
       "4             N         2025-01-24 15:00:00     공연완료  FC000819   \n",
       "\n",
       "                                       dtguidance  \\\n",
       "0                    수요일 ~ 금요일(10:20), 토요일(14:00)   \n",
       "1        월요일 ~ 금요일(15:00,17:00), 토요일 ~ 일요일(17:00)   \n",
       "2                                      토요일(20:00)   \n",
       "3  월요일 ~ 금요일(14:00), 토요일 ~ 일요일(11:00,14:00,16:30)   \n",
       "4                                      목요일(19:00)   \n",
       "\n",
       "                                             styurls  \\\n",
       "0  {'styurl': ['http://www.kopis.or.kr/upload/pfm...   \n",
       "1  {'styurl': ['http://www.kopis.or.kr/upload/pfm...   \n",
       "2  {'styurl': 'http://www.kopis.or.kr/upload/pfmI...   \n",
       "3  {'styurl': 'http://www.kopis.or.kr/upload/pfmI...   \n",
       "4  {'styurl': 'http://www.kopis.or.kr/upload/pfmI...   \n",
       "\n",
       "                                             relates  \n",
       "0  {'relate': {'relatenm': '인터파크', 'relateurl': '...  \n",
       "1  {'relate': {'relatenm': '네이버N예약', 'relateurl':...  \n",
       "2  {'relate': {'relatenm': '네이버N예약', 'relateurl':...  \n",
       "3  {'relate': [{'relatenm': '네이버N예약', 'relateurl'...  \n",
       "4  {'relate': {'relatenm': '고양어울림누리(고양문화재단)', 're...  \n",
       "\n",
       "[5 rows x 32 columns]"
      ],
      "text/html": [
       "<div>\n",
       "<style scoped>\n",
       "    .dataframe tbody tr th:only-of-type {\n",
       "        vertical-align: middle;\n",
       "    }\n",
       "\n",
       "    .dataframe tbody tr th {\n",
       "        vertical-align: top;\n",
       "    }\n",
       "\n",
       "    .dataframe thead th {\n",
       "        text-align: right;\n",
       "    }\n",
       "</style>\n",
       "<table border=\"1\" class=\"dataframe\">\n",
       "  <thead>\n",
       "    <tr style=\"text-align: right;\">\n",
       "      <th></th>\n",
       "      <th>mt20id</th>\n",
       "      <th>prfnm</th>\n",
       "      <th>prfpdfrom</th>\n",
       "      <th>prfpdto</th>\n",
       "      <th>fcltynm</th>\n",
       "      <th>prfcast</th>\n",
       "      <th>prfcrew</th>\n",
       "      <th>prfruntime</th>\n",
       "      <th>prfage</th>\n",
       "      <th>entrpsnm</th>\n",
       "      <th>...</th>\n",
       "      <th>daehakro</th>\n",
       "      <th>festival</th>\n",
       "      <th>musicallicense</th>\n",
       "      <th>musicalcreate</th>\n",
       "      <th>updatedate</th>\n",
       "      <th>prfstate</th>\n",
       "      <th>mt10id</th>\n",
       "      <th>dtguidance</th>\n",
       "      <th>styurls</th>\n",
       "      <th>relates</th>\n",
       "    </tr>\n",
       "  </thead>\n",
       "  <tbody>\n",
       "    <tr>\n",
       "      <th>0</th>\n",
       "      <td>PF270446</td>\n",
       "      <td>헨젤과 그레텔의 과자 콘서트 [청주]</td>\n",
       "      <td>2025.01.17</td>\n",
       "      <td>2025.08.31</td>\n",
       "      <td>오즈아트홀 (오즈아트홀)</td>\n",
       "      <td>오혜미, 정효진, 김창선, 박현주, 한철수, 오동환, 박소연 등</td>\n",
       "      <td>오혜영</td>\n",
       "      <td>50분</td>\n",
       "      <td>전체 관람가</td>\n",
       "      <td>NaN</td>\n",
       "      <td>...</td>\n",
       "      <td>N</td>\n",
       "      <td>N</td>\n",
       "      <td>N</td>\n",
       "      <td>N</td>\n",
       "      <td>2025-07-28 15:00:00.122445</td>\n",
       "      <td>공연완료</td>\n",
       "      <td>FC003652</td>\n",
       "      <td>수요일 ~ 금요일(10:20), 토요일(14:00)</td>\n",
       "      <td>{'styurl': ['http://www.kopis.or.kr/upload/pfm...</td>\n",
       "      <td>{'relate': {'relatenm': '인터파크', 'relateurl': '...</td>\n",
       "    </tr>\n",
       "    <tr>\n",
       "      <th>1</th>\n",
       "      <td>PF258371</td>\n",
       "      <td>오징어키즈게임 [인천 남동]</td>\n",
       "      <td>2025.01.13</td>\n",
       "      <td>2025.02.16</td>\n",
       "      <td>루시드아트홀 (루시드아트홀)</td>\n",
       "      <td>NaN</td>\n",
       "      <td>NaN</td>\n",
       "      <td>1시간</td>\n",
       "      <td>만 4세 이상</td>\n",
       "      <td>NaN</td>\n",
       "      <td>...</td>\n",
       "      <td>N</td>\n",
       "      <td>N</td>\n",
       "      <td>N</td>\n",
       "      <td>N</td>\n",
       "      <td>2025-02-05 15:00:00</td>\n",
       "      <td>공연완료</td>\n",
       "      <td>FC003416</td>\n",
       "      <td>월요일 ~ 금요일(15:00,17:00), 토요일 ~ 일요일(17:00)</td>\n",
       "      <td>{'styurl': ['http://www.kopis.or.kr/upload/pfm...</td>\n",
       "      <td>{'relate': {'relatenm': '네이버N예약', 'relateurl':...</td>\n",
       "    </tr>\n",
       "    <tr>\n",
       "      <th>2</th>\n",
       "      <td>PF258045</td>\n",
       "      <td>정열의 라틴 그루브! 이규재 라틴재즈올스타 [대전]</td>\n",
       "      <td>2025.01.25</td>\n",
       "      <td>2025.01.25</td>\n",
       "      <td>옐로우택시 (옐로우택시)</td>\n",
       "      <td>이규재, 조재범, 구교진, 염신혜, 강하얀</td>\n",
       "      <td>NaN</td>\n",
       "      <td>2시간</td>\n",
       "      <td>만 18세 이상</td>\n",
       "      <td>NaN</td>\n",
       "      <td>...</td>\n",
       "      <td>N</td>\n",
       "      <td>N</td>\n",
       "      <td>N</td>\n",
       "      <td>N</td>\n",
       "      <td>2025-01-31 18:00:00</td>\n",
       "      <td>공연완료</td>\n",
       "      <td>FC004001</td>\n",
       "      <td>토요일(20:00)</td>\n",
       "      <td>{'styurl': 'http://www.kopis.or.kr/upload/pfmI...</td>\n",
       "      <td>{'relate': {'relatenm': '네이버N예약', 'relateurl':...</td>\n",
       "    </tr>\n",
       "    <tr>\n",
       "      <th>3</th>\n",
       "      <td>PF257952</td>\n",
       "      <td>동춘서커스 [안산]</td>\n",
       "      <td>2025.01.01</td>\n",
       "      <td>2025.06.30</td>\n",
       "      <td>동춘서커스 빅탑극장 (동춘서커스 빅탑극장)</td>\n",
       "      <td>NaN</td>\n",
       "      <td>NaN</td>\n",
       "      <td>1시간 30분</td>\n",
       "      <td>전체 관람가</td>\n",
       "      <td>NaN</td>\n",
       "      <td>...</td>\n",
       "      <td>N</td>\n",
       "      <td>N</td>\n",
       "      <td>N</td>\n",
       "      <td>N</td>\n",
       "      <td>2025-04-01 11:38:58</td>\n",
       "      <td>공연완료</td>\n",
       "      <td>FC002006</td>\n",
       "      <td>월요일 ~ 금요일(14:00), 토요일 ~ 일요일(11:00,14:00,16:30)</td>\n",
       "      <td>{'styurl': 'http://www.kopis.or.kr/upload/pfmI...</td>\n",
       "      <td>{'relate': [{'relatenm': '네이버N예약', 'relateurl'...</td>\n",
       "    </tr>\n",
       "    <tr>\n",
       "      <th>4</th>\n",
       "      <td>PF257891</td>\n",
       "      <td>경기북부민중행동 신년음악회 우위영 콘서트</td>\n",
       "      <td>2025.01.23</td>\n",
       "      <td>2025.01.23</td>\n",
       "      <td>고양어울림누리 (별모래극장)</td>\n",
       "      <td>NaN</td>\n",
       "      <td>NaN</td>\n",
       "      <td>1시간 40분</td>\n",
       "      <td>24개월 이상</td>\n",
       "      <td>NaN</td>\n",
       "      <td>...</td>\n",
       "      <td>N</td>\n",
       "      <td>N</td>\n",
       "      <td>N</td>\n",
       "      <td>N</td>\n",
       "      <td>2025-01-24 15:00:00</td>\n",
       "      <td>공연완료</td>\n",
       "      <td>FC000819</td>\n",
       "      <td>목요일(19:00)</td>\n",
       "      <td>{'styurl': 'http://www.kopis.or.kr/upload/pfmI...</td>\n",
       "      <td>{'relate': {'relatenm': '고양어울림누리(고양문화재단)', 're...</td>\n",
       "    </tr>\n",
       "  </tbody>\n",
       "</table>\n",
       "<p>5 rows × 32 columns</p>\n",
       "</div>"
      ]
     },
     "execution_count": 4,
     "metadata": {},
     "output_type": "execute_result"
    }
   ],
   "execution_count": 4
  },
  {
   "metadata": {
    "ExecuteTime": {
     "end_time": "2025-10-02T21:26:16.879795Z",
     "start_time": "2025-10-02T21:26:16.864203Z"
    }
   },
   "cell_type": "code",
   "source": "df.columns",
   "id": "c7b10d6f70bd4018",
   "outputs": [
    {
     "data": {
      "text/plain": [
       "Index(['mt20id', 'prfnm', 'prfpdfrom', 'prfpdto', 'fcltynm', 'prfcast',\n",
       "       'prfcrew', 'prfruntime', 'prfage', 'entrpsnm', 'entrpsnmP', 'entrpsnmA',\n",
       "       'entrpsnmH', 'entrpsnmS', 'pcseguidance', 'poster', 'sty', 'area',\n",
       "       'genrenm', 'openrun', 'visit', 'child', 'daehakro', 'festival',\n",
       "       'musicallicense', 'musicalcreate', 'updatedate', 'prfstate', 'mt10id',\n",
       "       'dtguidance', 'styurls', 'relates'],\n",
       "      dtype='object')"
      ]
     },
     "execution_count": 5,
     "metadata": {},
     "output_type": "execute_result"
    }
   ],
   "execution_count": 5
  },
  {
   "metadata": {
    "ExecuteTime": {
     "end_time": "2025-10-02T21:29:42.075643Z",
     "start_time": "2025-10-02T21:29:42.058792Z"
    }
   },
   "cell_type": "code",
   "source": "df['prfage'].value_counts()",
   "id": "16d7216c6f39828e",
   "outputs": [
    {
     "data": {
      "text/plain": [
       "prfage\n",
       "만 7세 이상        8008\n",
       "전체 관람가         3729\n",
       "24개월 이상        1439\n",
       "만 6세 이상         811\n",
       "만 13세 이상        737\n",
       "만 5세 이상         628\n",
       "만 12세 이상        430\n",
       "만 8세 이상         423\n",
       "만 4세 이상         380\n",
       "36개월 이상         344\n",
       "만 11세 이상        335\n",
       "만 15세 이상        300\n",
       "만 14세 이상        240\n",
       "48개월 이상         149\n",
       "만 2세 이상         128\n",
       "만 9세 이상         120\n",
       "만 19세 이상        112\n",
       "만 10세 이상        110\n",
       "만 16세 이상         86\n",
       "만 3세 이상          84\n",
       "만 18세 이상         67\n",
       "12개월 이상          55\n",
       "20개월 이상          39\n",
       "30개월 이상          14\n",
       "만 17세 이상          7\n",
       "만 7세 이상 관람가       2\n",
       "18개월 이상           2\n",
       "5개월 이상            2\n",
       "60개월 이상           1\n",
       "7세 이상 관람          1\n",
       "Name: count, dtype: int64"
      ]
     },
     "execution_count": 7,
     "metadata": {},
     "output_type": "execute_result"
    }
   ],
   "execution_count": 7
  },
  {
   "metadata": {
    "ExecuteTime": {
     "end_time": "2025-10-02T21:32:03.228221Z",
     "start_time": "2025-10-02T21:32:03.214342Z"
    }
   },
   "cell_type": "code",
   "source": "df['prfcast'].value_counts()",
   "id": "60b9e9f582d2f2c6",
   "outputs": [
    {
     "data": {
      "text/plain": [
       "prfcast\n",
       "변진섭                                    34\n",
       "이준서, 김유정, 박소은, 채다린, 김성학, 이미현, 채희원 등    28\n",
       "최형배                                    25\n",
       "김해성                                    24\n",
       "최현종                                    23\n",
       "                                       ..\n",
       "이상, 김진호, 박기성, 강원진                       1\n",
       "박소현, 송희라                                1\n",
       "송용창, 최민석                                1\n",
       "장세연, 박주민, 최백결 등                         1\n",
       "구교현, 조윤성, 션 펜트랜드, 석다연                   1\n",
       "Name: count, Length: 11308, dtype: int64"
      ]
     },
     "execution_count": 12,
     "metadata": {},
     "output_type": "execute_result"
    }
   ],
   "execution_count": 12
  },
  {
   "metadata": {},
   "cell_type": "code",
   "outputs": [],
   "execution_count": null,
   "source": "",
   "id": "e56cba70d9ce7813"
  }
 ],
 "metadata": {
  "kernelspec": {
   "display_name": "Python 3",
   "language": "python",
   "name": "python3"
  },
  "language_info": {
   "codemirror_mode": {
    "name": "ipython",
    "version": 2
   },
   "file_extension": ".py",
   "mimetype": "text/x-python",
   "name": "python",
   "nbconvert_exporter": "python",
   "pygments_lexer": "ipython2",
   "version": "2.7.6"
  }
 },
 "nbformat": 4,
 "nbformat_minor": 5
}
